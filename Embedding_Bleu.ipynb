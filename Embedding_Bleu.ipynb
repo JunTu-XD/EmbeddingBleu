{
  "nbformat": 4,
  "nbformat_minor": 0,
  "metadata": {
    "colab": {
      "provenance": [],
      "collapsed_sections": [
        "EhzeL0vYBwu9"
      ],
      "include_colab_link": true
    },
    "kernelspec": {
      "name": "python3",
      "display_name": "Python 3"
    },
    "language_info": {
      "name": "python"
    },
    "accelerator": "GPU"
  },
  "cells": [
    {
      "cell_type": "markdown",
      "metadata": {
        "id": "view-in-github",
        "colab_type": "text"
      },
      "source": [
        "<a href=\"https://colab.research.google.com/github/JunTu-XD/EmbeddingBleu/blob/main/Embedding_Bleu.ipynb\" target=\"_parent\"><img src=\"https://colab.research.google.com/assets/colab-badge.svg\" alt=\"Open In Colab\"/></a>"
      ]
    },
    {
      "cell_type": "markdown",
      "source": [
        "## Dataset\n",
        "dataframe: df [\n",
        "ref\n",
        "sys\n",
        "mqm\n",
        "bleu]\n"
      ],
      "metadata": {
        "id": "feWA_Z35SFCU"
      }
    },
    {
      "cell_type": "code",
      "source": [
        "import pandas as pd\n",
        "from google.colab import drive\n",
        "from io import StringIO\n",
        "import matplotlib.pyplot as plt\n",
        "import numpy as np\n",
        "\n",
        "drive.mount('/content/drive')\n",
        "# data = pd.read_csv('/content/drive/MyDrive/CL_ESSENTIALS/mqm_newstest2021_zhen.tsv', sep='\\t', quoting = 2)\n",
        "\n",
        "with open('/content/drive/MyDrive/CL_ESSENTIALS/mqm_newstest2021_zhen.tsv') as f:\n",
        "  contents = f.read()\n",
        "  contents = contents.replace(\"”\", '')\n",
        "  contents = contents.replace('\"', '')\n",
        "\n",
        "data = pd.read_csv(StringIO(contents), sep='\\t')\n",
        "data"
      ],
      "metadata": {
        "colab": {
          "base_uri": "https://localhost:8080/",
          "height": 443
        },
        "id": "wDMexzPTADRx",
        "outputId": "a52af966-2be6-40e4-ee58-a239194515fd"
      },
      "execution_count": 1,
      "outputs": [
        {
          "output_type": "stream",
          "name": "stdout",
          "text": [
            "Drive already mounted at /content/drive; to attempt to forcibly remount, call drive.mount(\"/content/drive\", force_remount=True).\n"
          ]
        },
        {
          "output_type": "execute_result",
          "data": {
            "text/plain": [
              "                  system                   doc  doc_id  seg_id   rater  \\\n",
              "0         hyp.Borderline  chinanews.com.229454       1    1644  rater8   \n",
              "1           hyp.DIDI-NLP  chinanews.com.229454       1    1644  rater9   \n",
              "2           hyp.DIDI-NLP  chinanews.com.229454       1    1644  rater9   \n",
              "3        hyp.Facebook-AI  chinanews.com.229454       1    1644  rater2   \n",
              "4             hyp.IIE-MT  chinanews.com.229454       1    1644  rater3   \n",
              "...                  ...                   ...     ...     ...     ...   \n",
              "17216  hyp.metricsystem5   xinhua-zh-01.120586      12     259  rater1   \n",
              "17217              ref.A   xinhua-zh-01.120586      12     259  rater1   \n",
              "17218              ref.B   xinhua-zh-01.120586      12     259  rater2   \n",
              "17219              ref.B   xinhua-zh-01.120586      12     259  rater2   \n",
              "17220              ref.B   xinhua-zh-01.120586      12     259  rater2   \n",
              "\n",
              "                                                  source  \\\n",
              "0      当地时间25日下午，一架小型飞机在德国北威州韦瑟尔县撞上一座多层住宅楼的顶层，事故共造成三人死亡。   \n",
              "1      当地时间25日下午，一架小型飞机在德国北威州韦瑟尔县撞上一座多层住宅楼的顶层，事故共造成三人死亡。   \n",
              "2      当地时间25日下午，一架小型飞机在德国北威州韦瑟尔县撞上一座多层住宅楼的顶层，事故共造成三人死亡。   \n",
              "3      当地时间25日下午，一架小型飞机在德国北威州韦瑟尔县撞上一座多层住宅楼的顶层，事故共造成三人死亡。   \n",
              "4      当地时间25日下午，一架小型飞机在德国北威州韦瑟尔县撞上一座多层住宅楼的顶层，事故共造成三人死亡。   \n",
              "...                                                  ...   \n",
              "17216  饮食上可选择绿豆、薏仁等具有清热解暑、健脾开胃作用的食物，以及苦菜、苦瓜等苦味食物，可有助于...   \n",
              "17217  饮食上可选择绿豆、薏仁等具有清热解暑、健脾开胃作用的食物，以及苦菜、苦瓜等苦味食物，可有助于...   \n",
              "17218  饮食上可选择绿豆、薏仁等具有清热解暑、健脾开胃作用的食物，以及苦菜、苦瓜等苦味食物，可有助于...   \n",
              "17219  饮食上可选择绿豆、薏仁等具有清热解暑、健脾开胃作用的食物，以及苦菜、苦瓜等苦味食物，可有助于...   \n",
              "17220  饮食上可选择绿豆、薏仁等具有清热解暑、健脾开胃作用的食物，以及苦菜、苦瓜等苦味食物，可有助于...   \n",
              "\n",
              "                                                  target  \\\n",
              "0      On the afternoon of the 25th local time, a sma...   \n",
              "1      <v>On</v> the afternoon of the 25th local time...   \n",
              "2      On the afternoon of the 25th local time, a sma...   \n",
              "3      On the afternoon of the 25th local time, a sma...   \n",
              "4      On the afternoon of the 25th local time, a <v>...   \n",
              "...                                                  ...   \n",
              "17216  Foods that have the effect of clearing heat an...   \n",
              "17217  Therefore, mung beans and coix seeds should be...   \n",
              "17218  People may choose mung beans, Job's tears, and...   \n",
              "17219  People may choose mung beans, Job's tears, and...   \n",
              "17220  People may choose mung beans, Job's tears, and...   \n",
              "\n",
              "                                    category severity  \n",
              "0           Locale convention/Address format    Major  \n",
              "1                            Fluency/Grammar    Major  \n",
              "2                          Accuracy/Addition    Major  \n",
              "3                    Accuracy/Mistranslation    Minor  \n",
              "4      Terminology/Inappropriate for context    Major  \n",
              "...                                      ...      ...  \n",
              "17216                          Style/Awkward    Minor  \n",
              "17217                Accuracy/Mistranslation    Major  \n",
              "17218                Accuracy/Mistranslation    Minor  \n",
              "17219                    Fluency/Punctuation    Minor  \n",
              "17220                    Fluency/Punctuation    Minor  \n",
              "\n",
              "[17221 rows x 9 columns]"
            ],
            "text/html": [
              "\n",
              "  <div id=\"df-2c93060b-1434-4aee-868c-20162ab103bf\">\n",
              "    <div class=\"colab-df-container\">\n",
              "      <div>\n",
              "<style scoped>\n",
              "    .dataframe tbody tr th:only-of-type {\n",
              "        vertical-align: middle;\n",
              "    }\n",
              "\n",
              "    .dataframe tbody tr th {\n",
              "        vertical-align: top;\n",
              "    }\n",
              "\n",
              "    .dataframe thead th {\n",
              "        text-align: right;\n",
              "    }\n",
              "</style>\n",
              "<table border=\"1\" class=\"dataframe\">\n",
              "  <thead>\n",
              "    <tr style=\"text-align: right;\">\n",
              "      <th></th>\n",
              "      <th>system</th>\n",
              "      <th>doc</th>\n",
              "      <th>doc_id</th>\n",
              "      <th>seg_id</th>\n",
              "      <th>rater</th>\n",
              "      <th>source</th>\n",
              "      <th>target</th>\n",
              "      <th>category</th>\n",
              "      <th>severity</th>\n",
              "    </tr>\n",
              "  </thead>\n",
              "  <tbody>\n",
              "    <tr>\n",
              "      <th>0</th>\n",
              "      <td>hyp.Borderline</td>\n",
              "      <td>chinanews.com.229454</td>\n",
              "      <td>1</td>\n",
              "      <td>1644</td>\n",
              "      <td>rater8</td>\n",
              "      <td>当地时间25日下午，一架小型飞机在德国北威州韦瑟尔县撞上一座多层住宅楼的顶层，事故共造成三人死亡。</td>\n",
              "      <td>On the afternoon of the 25th local time, a sma...</td>\n",
              "      <td>Locale convention/Address format</td>\n",
              "      <td>Major</td>\n",
              "    </tr>\n",
              "    <tr>\n",
              "      <th>1</th>\n",
              "      <td>hyp.DIDI-NLP</td>\n",
              "      <td>chinanews.com.229454</td>\n",
              "      <td>1</td>\n",
              "      <td>1644</td>\n",
              "      <td>rater9</td>\n",
              "      <td>当地时间25日下午，一架小型飞机在德国北威州韦瑟尔县撞上一座多层住宅楼的顶层，事故共造成三人死亡。</td>\n",
              "      <td>&lt;v&gt;On&lt;/v&gt; the afternoon of the 25th local time...</td>\n",
              "      <td>Fluency/Grammar</td>\n",
              "      <td>Major</td>\n",
              "    </tr>\n",
              "    <tr>\n",
              "      <th>2</th>\n",
              "      <td>hyp.DIDI-NLP</td>\n",
              "      <td>chinanews.com.229454</td>\n",
              "      <td>1</td>\n",
              "      <td>1644</td>\n",
              "      <td>rater9</td>\n",
              "      <td>当地时间25日下午，一架小型飞机在德国北威州韦瑟尔县撞上一座多层住宅楼的顶层，事故共造成三人死亡。</td>\n",
              "      <td>On the afternoon of the 25th local time, a sma...</td>\n",
              "      <td>Accuracy/Addition</td>\n",
              "      <td>Major</td>\n",
              "    </tr>\n",
              "    <tr>\n",
              "      <th>3</th>\n",
              "      <td>hyp.Facebook-AI</td>\n",
              "      <td>chinanews.com.229454</td>\n",
              "      <td>1</td>\n",
              "      <td>1644</td>\n",
              "      <td>rater2</td>\n",
              "      <td>当地时间25日下午，一架小型飞机在德国北威州韦瑟尔县撞上一座多层住宅楼的顶层，事故共造成三人死亡。</td>\n",
              "      <td>On the afternoon of the 25th local time, a sma...</td>\n",
              "      <td>Accuracy/Mistranslation</td>\n",
              "      <td>Minor</td>\n",
              "    </tr>\n",
              "    <tr>\n",
              "      <th>4</th>\n",
              "      <td>hyp.IIE-MT</td>\n",
              "      <td>chinanews.com.229454</td>\n",
              "      <td>1</td>\n",
              "      <td>1644</td>\n",
              "      <td>rater3</td>\n",
              "      <td>当地时间25日下午，一架小型飞机在德国北威州韦瑟尔县撞上一座多层住宅楼的顶层，事故共造成三人死亡。</td>\n",
              "      <td>On the afternoon of the 25th local time, a &lt;v&gt;...</td>\n",
              "      <td>Terminology/Inappropriate for context</td>\n",
              "      <td>Major</td>\n",
              "    </tr>\n",
              "    <tr>\n",
              "      <th>...</th>\n",
              "      <td>...</td>\n",
              "      <td>...</td>\n",
              "      <td>...</td>\n",
              "      <td>...</td>\n",
              "      <td>...</td>\n",
              "      <td>...</td>\n",
              "      <td>...</td>\n",
              "      <td>...</td>\n",
              "      <td>...</td>\n",
              "    </tr>\n",
              "    <tr>\n",
              "      <th>17216</th>\n",
              "      <td>hyp.metricsystem5</td>\n",
              "      <td>xinhua-zh-01.120586</td>\n",
              "      <td>12</td>\n",
              "      <td>259</td>\n",
              "      <td>rater1</td>\n",
              "      <td>饮食上可选择绿豆、薏仁等具有清热解暑、健脾开胃作用的食物，以及苦菜、苦瓜等苦味食物，可有助于...</td>\n",
              "      <td>Foods that have the effect of clearing heat an...</td>\n",
              "      <td>Style/Awkward</td>\n",
              "      <td>Minor</td>\n",
              "    </tr>\n",
              "    <tr>\n",
              "      <th>17217</th>\n",
              "      <td>ref.A</td>\n",
              "      <td>xinhua-zh-01.120586</td>\n",
              "      <td>12</td>\n",
              "      <td>259</td>\n",
              "      <td>rater1</td>\n",
              "      <td>饮食上可选择绿豆、薏仁等具有清热解暑、健脾开胃作用的食物，以及苦菜、苦瓜等苦味食物，可有助于...</td>\n",
              "      <td>Therefore, mung beans and coix seeds should be...</td>\n",
              "      <td>Accuracy/Mistranslation</td>\n",
              "      <td>Major</td>\n",
              "    </tr>\n",
              "    <tr>\n",
              "      <th>17218</th>\n",
              "      <td>ref.B</td>\n",
              "      <td>xinhua-zh-01.120586</td>\n",
              "      <td>12</td>\n",
              "      <td>259</td>\n",
              "      <td>rater2</td>\n",
              "      <td>饮食上可选择绿豆、薏仁等具有清热解暑、健脾开胃作用的食物，以及苦菜、苦瓜等苦味食物，可有助于...</td>\n",
              "      <td>People may choose mung beans, Job's tears, and...</td>\n",
              "      <td>Accuracy/Mistranslation</td>\n",
              "      <td>Minor</td>\n",
              "    </tr>\n",
              "    <tr>\n",
              "      <th>17219</th>\n",
              "      <td>ref.B</td>\n",
              "      <td>xinhua-zh-01.120586</td>\n",
              "      <td>12</td>\n",
              "      <td>259</td>\n",
              "      <td>rater2</td>\n",
              "      <td>饮食上可选择绿豆、薏仁等具有清热解暑、健脾开胃作用的食物，以及苦菜、苦瓜等苦味食物，可有助于...</td>\n",
              "      <td>People may choose mung beans, Job's tears, and...</td>\n",
              "      <td>Fluency/Punctuation</td>\n",
              "      <td>Minor</td>\n",
              "    </tr>\n",
              "    <tr>\n",
              "      <th>17220</th>\n",
              "      <td>ref.B</td>\n",
              "      <td>xinhua-zh-01.120586</td>\n",
              "      <td>12</td>\n",
              "      <td>259</td>\n",
              "      <td>rater2</td>\n",
              "      <td>饮食上可选择绿豆、薏仁等具有清热解暑、健脾开胃作用的食物，以及苦菜、苦瓜等苦味食物，可有助于...</td>\n",
              "      <td>People may choose mung beans, Job's tears, and...</td>\n",
              "      <td>Fluency/Punctuation</td>\n",
              "      <td>Minor</td>\n",
              "    </tr>\n",
              "  </tbody>\n",
              "</table>\n",
              "<p>17221 rows × 9 columns</p>\n",
              "</div>\n",
              "      <button class=\"colab-df-convert\" onclick=\"convertToInteractive('df-2c93060b-1434-4aee-868c-20162ab103bf')\"\n",
              "              title=\"Convert this dataframe to an interactive table.\"\n",
              "              style=\"display:none;\">\n",
              "        \n",
              "  <svg xmlns=\"http://www.w3.org/2000/svg\" height=\"24px\"viewBox=\"0 0 24 24\"\n",
              "       width=\"24px\">\n",
              "    <path d=\"M0 0h24v24H0V0z\" fill=\"none\"/>\n",
              "    <path d=\"M18.56 5.44l.94 2.06.94-2.06 2.06-.94-2.06-.94-.94-2.06-.94 2.06-2.06.94zm-11 1L8.5 8.5l.94-2.06 2.06-.94-2.06-.94L8.5 2.5l-.94 2.06-2.06.94zm10 10l.94 2.06.94-2.06 2.06-.94-2.06-.94-.94-2.06-.94 2.06-2.06.94z\"/><path d=\"M17.41 7.96l-1.37-1.37c-.4-.4-.92-.59-1.43-.59-.52 0-1.04.2-1.43.59L10.3 9.45l-7.72 7.72c-.78.78-.78 2.05 0 2.83L4 21.41c.39.39.9.59 1.41.59.51 0 1.02-.2 1.41-.59l7.78-7.78 2.81-2.81c.8-.78.8-2.07 0-2.86zM5.41 20L4 18.59l7.72-7.72 1.47 1.35L5.41 20z\"/>\n",
              "  </svg>\n",
              "      </button>\n",
              "      \n",
              "  <style>\n",
              "    .colab-df-container {\n",
              "      display:flex;\n",
              "      flex-wrap:wrap;\n",
              "      gap: 12px;\n",
              "    }\n",
              "\n",
              "    .colab-df-convert {\n",
              "      background-color: #E8F0FE;\n",
              "      border: none;\n",
              "      border-radius: 50%;\n",
              "      cursor: pointer;\n",
              "      display: none;\n",
              "      fill: #1967D2;\n",
              "      height: 32px;\n",
              "      padding: 0 0 0 0;\n",
              "      width: 32px;\n",
              "    }\n",
              "\n",
              "    .colab-df-convert:hover {\n",
              "      background-color: #E2EBFA;\n",
              "      box-shadow: 0px 1px 2px rgba(60, 64, 67, 0.3), 0px 1px 3px 1px rgba(60, 64, 67, 0.15);\n",
              "      fill: #174EA6;\n",
              "    }\n",
              "\n",
              "    [theme=dark] .colab-df-convert {\n",
              "      background-color: #3B4455;\n",
              "      fill: #D2E3FC;\n",
              "    }\n",
              "\n",
              "    [theme=dark] .colab-df-convert:hover {\n",
              "      background-color: #434B5C;\n",
              "      box-shadow: 0px 1px 3px 1px rgba(0, 0, 0, 0.15);\n",
              "      filter: drop-shadow(0px 1px 2px rgba(0, 0, 0, 0.3));\n",
              "      fill: #FFFFFF;\n",
              "    }\n",
              "  </style>\n",
              "\n",
              "      <script>\n",
              "        const buttonEl =\n",
              "          document.querySelector('#df-2c93060b-1434-4aee-868c-20162ab103bf button.colab-df-convert');\n",
              "        buttonEl.style.display =\n",
              "          google.colab.kernel.accessAllowed ? 'block' : 'none';\n",
              "\n",
              "        async function convertToInteractive(key) {\n",
              "          const element = document.querySelector('#df-2c93060b-1434-4aee-868c-20162ab103bf');\n",
              "          const dataTable =\n",
              "            await google.colab.kernel.invokeFunction('convertToInteractive',\n",
              "                                                     [key], {});\n",
              "          if (!dataTable) return;\n",
              "\n",
              "          const docLinkHtml = 'Like what you see? Visit the ' +\n",
              "            '<a target=\"_blank\" href=https://colab.research.google.com/notebooks/data_table.ipynb>data table notebook</a>'\n",
              "            + ' to learn more about interactive tables.';\n",
              "          element.innerHTML = '';\n",
              "          dataTable['output_type'] = 'display_data';\n",
              "          await google.colab.output.renderOutput(dataTable, element);\n",
              "          const docLink = document.createElement('div');\n",
              "          docLink.innerHTML = docLinkHtml;\n",
              "          element.appendChild(docLink);\n",
              "        }\n",
              "      </script>\n",
              "    </div>\n",
              "  </div>\n",
              "  "
            ]
          },
          "metadata": {},
          "execution_count": 1
        }
      ]
    },
    {
      "cell_type": "markdown",
      "source": [
        "One error in a segment is recoreded in one line in the data file. To ccollect all errors associated with the same segment, we have to accumulate them.\n",
        "\n",
        "We use ref-B as the ground truth because it has a better MQM score.\n"
      ],
      "metadata": {
        "id": "eHMyMlsYCfUa"
      }
    },
    {
      "cell_type": "code",
      "source": [
        "# Helper functions\n",
        "\n",
        "def clean_mqm_viewer_annotations(input: str) -> str:\n",
        "  # Rmove MQM viewer tags\n",
        "  output = input.replace(\"<v>\", \"\")\n",
        "  output = output.replace(\"</v>\", \"\")\n",
        "  return output\n",
        "\n",
        "def mqm_score(category: str, severity: str) -> float:\n",
        "  if category == severity == \"No-error\":\n",
        "    return 0\n",
        "  \n",
        "  if category == \"Non-translation\":\n",
        "    return 25\n",
        "  \n",
        "  if severity == \"Minor\":\n",
        "    if category == \"Fluency/Punctuation\":\n",
        "      return 0.1\n",
        "    else:\n",
        "      return 1\n",
        "  elif severity == \"Major\":\n",
        "    return 5\n",
        "  else:\n",
        "    raise Exception(f\"Unexpected MQM evaluation severity: {severity}\")"
      ],
      "metadata": {
        "id": "rfZkZP35ChMV"
      },
      "execution_count": 2,
      "outputs": []
    },
    {
      "cell_type": "code",
      "source": [
        "# Collect ref-B translations in a hashmap (seg_id -> target)\n",
        "refs = {}\n",
        "\n",
        "for i in data.index:\n",
        "  if data['system'][i] == \"ref.B\":\n",
        "    refs[data['seg_id'][i]] = clean_mqm_viewer_annotations(data['target'][i])\n",
        "\n",
        "len(refs)"
      ],
      "metadata": {
        "colab": {
          "base_uri": "https://localhost:8080/"
        },
        "id": "s6WfiWeOCjGR",
        "outputId": "a4073285-777b-4726-b518-ee7af51be151"
      },
      "execution_count": 3,
      "outputs": [
        {
          "output_type": "execute_result",
          "data": {
            "text/plain": [
              "650"
            ]
          },
          "metadata": {},
          "execution_count": 3
        }
      ]
    },
    {
      "cell_type": "code",
      "source": [
        "from nltk.translate.bleu_score import corpus_bleu\n",
        "\n",
        "# Collect translations from all systems, accumulate their MQM scores, \n",
        "# calculate their BLEU scores and match the reference translation\n",
        "translations = {}\n",
        "\n",
        "for i in data.index:\n",
        "  if data['system'][i] == \"ref.A\" or data['system'][i] == \"ref.B\":\n",
        "    # Skip references - we only look for translations\n",
        "    continue\n",
        "\n",
        "  if data['seg_id'][i] not in refs:\n",
        "    # We don't have a reference for this translation\n",
        "    continue\n",
        "\n",
        "  ref = refs[data['seg_id'][i]]\n",
        "  system = clean_mqm_viewer_annotations(data['target'][i])\n",
        "\n",
        "  key = (data['system'][i], data['seg_id'][i])\n",
        "  if key not in translations:\n",
        "    translations[key] = {\n",
        "        \"ref\": ref,\n",
        "        \"sys\": system,\n",
        "        \"mqm\": 0,\n",
        "        \"bleu\": 0.0,\n",
        "    }\n",
        "\n",
        "    # Calculate BLEU score for ref vs sys\n",
        "    bleu = corpus_bleu([[ref]], [system])\n",
        "    translations[key][\"bleu\"] = bleu\n",
        "\n",
        "  # Accumulate MQM score for this translation\n",
        "  mqm = mqm_score(data['category'][i], data['severity'][i])\n",
        "  translations[key][\"mqm\"] += mqm\n",
        "\n",
        "len(translations)"
      ],
      "metadata": {
        "colab": {
          "base_uri": "https://localhost:8080/"
        },
        "id": "phTbNd8yCmxs",
        "outputId": "27a42b66-5cc2-46ec-9033-b9b62d65d2ba"
      },
      "execution_count": 4,
      "outputs": [
        {
          "output_type": "stream",
          "name": "stderr",
          "text": [
            "/usr/local/lib/python3.7/dist-packages/nltk/translate/bleu_score.py:552: UserWarning: \n",
            "The hypothesis contains 0 counts of 2-gram overlaps.\n",
            "Therefore the BLEU score evaluates to 0, independently of\n",
            "how many N-gram overlaps of lower order it contains.\n",
            "Consider using lower n-gram order or use SmoothingFunction()\n",
            "  warnings.warn(_msg)\n",
            "/usr/local/lib/python3.7/dist-packages/nltk/translate/bleu_score.py:552: UserWarning: \n",
            "The hypothesis contains 0 counts of 3-gram overlaps.\n",
            "Therefore the BLEU score evaluates to 0, independently of\n",
            "how many N-gram overlaps of lower order it contains.\n",
            "Consider using lower n-gram order or use SmoothingFunction()\n",
            "  warnings.warn(_msg)\n",
            "/usr/local/lib/python3.7/dist-packages/nltk/translate/bleu_score.py:552: UserWarning: \n",
            "The hypothesis contains 0 counts of 4-gram overlaps.\n",
            "Therefore the BLEU score evaluates to 0, independently of\n",
            "how many N-gram overlaps of lower order it contains.\n",
            "Consider using lower n-gram order or use SmoothingFunction()\n",
            "  warnings.warn(_msg)\n"
          ]
        },
        {
          "output_type": "execute_result",
          "data": {
            "text/plain": [
              "8450"
            ]
          },
          "metadata": {},
          "execution_count": 4
        }
      ]
    },
    {
      "cell_type": "code",
      "source": [
        "import torch\n",
        "import numpy as np\n",
        "df = pd.DataFrame.from_dict(translations.values())\n",
        "\n",
        "max_len = len(max(df['ref'], key=len))+1\n",
        "\n",
        "ref = []\n",
        "sys = []\n",
        "bleu_data = []\n",
        "mqm_data =[]\n",
        "for i in range(len(df['ref'])):\n",
        "    if max_len > len(df['ref'][i]) and max_len > len(df['sys'][i]):\n",
        "        ref.append(df['ref'][i])\n",
        "        sys.append(df['sys'][i])\n",
        "        bleu_data.append(df['bleu'][i])\n",
        "        mqm_data.append(df['mqm'][i])\n",
        "\n",
        "# assume A is 1d\n",
        "def normalize(func, A, **args):\n",
        "    if func == \"scaling_range\":\n",
        "        return (torch.tensor(A)- args['range_min']) / (args['range_max']- args['range_min'])\n",
        "\n",
        "idx = np.random.permutation(len(ref))\n",
        "\n",
        "ref = np.asarray(ref)[idx].tolist()\n",
        "sys = np.asarray(sys)[idx].tolist()\n",
        "bleu_data =(np.asarray(bleu_data))[idx].tolist()\n",
        "mqm_data =np.asarray(mqm_data)[idx].tolist()\n",
        "\n",
        "\n",
        "mqm_data = torch.tensor(mqm_data)\n",
        "mqm_data = 25-mqm_data\n",
        "mqm_data = normalize(\"scaling_range\", mqm_data, range_min=0,range_max=25).tolist()\n",
        "mqm_data[0]\n"
      ],
      "metadata": {
        "colab": {
          "base_uri": "https://localhost:8080/"
        },
        "id": "xTp_OFXqCqLV",
        "outputId": "ef5e7949-2b71-4ffd-b3ca-dc1d4cf615f0"
      },
      "execution_count": 5,
      "outputs": [
        {
          "output_type": "stream",
          "name": "stderr",
          "text": [
            "/usr/local/lib/python3.7/dist-packages/ipykernel_launcher.py:21: UserWarning: To copy construct from a tensor, it is recommended to use sourceTensor.clone().detach() or sourceTensor.clone().detach().requires_grad_(True), rather than torch.tensor(sourceTensor).\n"
          ]
        },
        {
          "output_type": "execute_result",
          "data": {
            "text/plain": [
              "1.0"
            ]
          },
          "metadata": {},
          "execution_count": 5
        }
      ]
    },
    {
      "cell_type": "markdown",
      "source": [
        "### Randonly Word Disorder "
      ],
      "metadata": {
        "id": "Hpb8eS0H9e7g"
      }
    },
    {
      "cell_type": "code",
      "source": [
        "## random seq words order\n",
        "seed = 23\n",
        "np.random.seed(23)\n",
        "def random_disorder(seqs, labels, cnt,  swap_dist, label_penality, disorder_percentage=0.5):\n",
        "    rdn_seqs = []\n",
        "    rdn_labels = []\n",
        "    for seq_id, seq in enumerate(seqs):\n",
        "        lst = seq.split(\" \")\n",
        "        rdn_if = np.random.uniform(0,1)\n",
        "        if (len(lst)<=swap_dist or rdn_if > disorder_percentage):\n",
        "            # print(seq_id)\n",
        "            # print(seq)\n",
        "            rdn_labels.append(labels[seq_id])            \n",
        "            rdn_seqs.append(seq)\n",
        "            continue\n",
        "        for i in range(cnt):\n",
        "            indx = np.random.randint(0, len(lst)-swap_dist)\n",
        "            lst[indx], lst[swap_dist+indx] = lst[swap_dist+indx], lst[indx]\n",
        "\n",
        "        rdn_labels.append(labels[seq_id]-label_penality)\n",
        "        rdn_seqs.append(' '.join(lst))\n",
        "    return rdn_seqs,labels\n",
        "\n",
        "random_disorder(sys[35:38], mqm_data[35:38], cnt=2, swap_dist=3, label_penality=0.04)"
      ],
      "metadata": {
        "colab": {
          "base_uri": "https://localhost:8080/"
        },
        "id": "Pw1qpFYfpcEg",
        "outputId": "82c95882-8106-49ef-ff8b-475586799c5f"
      },
      "execution_count": 6,
      "outputs": [
        {
          "output_type": "execute_result",
          "data": {
            "text/plain": [
              "(['It is reported that the addition of the nuclear bomb element in the second part also makes the challenge faced by the bomb disposal experts more difficult. The few startling shots in the forecast have made people hang on the line. The mushroom cloud of the big bang, the airport engulfed by the fire, the scene is quite shocking.',\n",
              "  'All participants can enter the parliament building after passing a quick test on the same day.',\n",
              "  'Sports leader Zhang Jike and sports assistant Lin Xiaozhai cross-border on the same stage. Lin Dan and Fu Yuanhui commented on their own styles, and the hard core of the “colossal force pulling device made the show more “burning.'],\n",
              " [0.0, 1.0, 0.6000000238418579])"
            ]
          },
          "metadata": {},
          "execution_count": 6
        }
      ]
    },
    {
      "cell_type": "markdown",
      "source": [
        "### distribution of MQM score"
      ],
      "metadata": {
        "id": "bvnH8sRU4ilK"
      }
    },
    {
      "cell_type": "code",
      "source": [
        "plt.figure(\"11\")\n",
        "plt.hist(mqm_data, bins=np.linspace(0,1, 20), density=True)\n",
        "plt.title(\"MQM data distribution\")"
      ],
      "metadata": {
        "colab": {
          "base_uri": "https://localhost:8080/",
          "height": 300
        },
        "id": "N2FU97BK4g9D",
        "outputId": "1b6a17c0-0207-4eb3-d22f-5000005a0f58"
      },
      "execution_count": 7,
      "outputs": [
        {
          "output_type": "execute_result",
          "data": {
            "text/plain": [
              "Text(0.5, 1.0, 'MQM data distribution')"
            ]
          },
          "metadata": {},
          "execution_count": 7
        },
        {
          "output_type": "display_data",
          "data": {
            "text/plain": [
              "<Figure size 432x288 with 1 Axes>"
            ],
            "image/png": "[encoded data removed]"
          },
          "metadata": {
            "needs_background": "light"
          }
        }
      ]
    },
    {
      "cell_type": "markdown",
      "source": [
        "## Word Embedding"
      ],
      "metadata": {
        "id": "EhzeL0vYBwu9"
      }
    },
    {
      "cell_type": "code",
      "source": [],
      "metadata": {
        "id": "jVB1dJrXB0X2"
      },
      "execution_count": 7,
      "outputs": []
    },
    {
      "cell_type": "markdown",
      "source": [
        "## Sequence Embedding\n",
        "https://www.sbert.net/examples/applications/computing-embeddings/README.html\n",
        "\n",
        "Ref:https://arxiv.org/abs/1908.10084\n"
      ],
      "metadata": {
        "id": "NGW1BBFvSQE8"
      }
    },
    {
      "cell_type": "code",
      "source": [
        "!pip install -U sentence-transformers"
      ],
      "metadata": {
        "colab": {
          "base_uri": "https://localhost:8080/"
        },
        "id": "k8oYnMX4Slhr",
        "outputId": "9b8c5345-93d2-46e5-bc8b-2a4bbd5ffb39"
      },
      "execution_count": 8,
      "outputs": [
        {
          "output_type": "stream",
          "name": "stdout",
          "text": [
            "Looking in indexes: https://pypi.org/simple, https://us-python.pkg.dev/colab-wheels/public/simple/\n",
            "Requirement already satisfied: sentence-transformers in /usr/local/lib/python3.7/dist-packages (2.2.2)\n",
            "Requirement already satisfied: tqdm in /usr/local/lib/python3.7/dist-packages (from sentence-transformers) (4.64.1)\n",
            "Requirement already satisfied: numpy in /usr/local/lib/python3.7/dist-packages (from sentence-transformers) (1.21.6)\n",
            "Requirement already satisfied: scikit-learn in /usr/local/lib/python3.7/dist-packages (from sentence-transformers) (1.0.2)\n",
            "Requirement already satisfied: huggingface-hub>=0.4.0 in /usr/local/lib/python3.7/dist-packages (from sentence-transformers) (0.9.1)\n",
            "Requirement already satisfied: torchvision in /usr/local/lib/python3.7/dist-packages (from sentence-transformers) (0.13.1+cu113)\n",
            "Requirement already satisfied: nltk in /usr/local/lib/python3.7/dist-packages (from sentence-transformers) (3.7)\n",
            "Requirement already satisfied: transformers<5.0.0,>=4.6.0 in /usr/local/lib/python3.7/dist-packages (from sentence-transformers) (4.22.1)\n",
            "Requirement already satisfied: torch>=1.6.0 in /usr/local/lib/python3.7/dist-packages (from sentence-transformers) (1.12.1+cu113)\n",
            "Requirement already satisfied: sentencepiece in /usr/local/lib/python3.7/dist-packages (from sentence-transformers) (0.1.97)\n",
            "Requirement already satisfied: scipy in /usr/local/lib/python3.7/dist-packages (from sentence-transformers) (1.7.3)\n",
            "Requirement already satisfied: importlib-metadata in /usr/local/lib/python3.7/dist-packages (from huggingface-hub>=0.4.0->sentence-transformers) (4.12.0)\n",
            "Requirement already satisfied: requests in /usr/local/lib/python3.7/dist-packages (from huggingface-hub>=0.4.0->sentence-transformers) (2.23.0)\n",
            "Requirement already satisfied: packaging>=20.9 in /usr/local/lib/python3.7/dist-packages (from huggingface-hub>=0.4.0->sentence-transformers) (21.3)\n",
            "Requirement already satisfied: filelock in /usr/local/lib/python3.7/dist-packages (from huggingface-hub>=0.4.0->sentence-transformers) (3.8.0)\n",
            "Requirement already satisfied: pyyaml>=5.1 in /usr/local/lib/python3.7/dist-packages (from huggingface-hub>=0.4.0->sentence-transformers) (6.0)\n",
            "Requirement already satisfied: typing-extensions>=3.7.4.3 in /usr/local/lib/python3.7/dist-packages (from huggingface-hub>=0.4.0->sentence-transformers) (4.1.1)\n",
            "Requirement already satisfied: pyparsing!=3.0.5,>=2.0.2 in /usr/local/lib/python3.7/dist-packages (from packaging>=20.9->huggingface-hub>=0.4.0->sentence-transformers) (3.0.9)\n",
            "Requirement already satisfied: tokenizers!=0.11.3,<0.13,>=0.11.1 in /usr/local/lib/python3.7/dist-packages (from transformers<5.0.0,>=4.6.0->sentence-transformers) (0.12.1)\n",
            "Requirement already satisfied: regex!=2019.12.17 in /usr/local/lib/python3.7/dist-packages (from transformers<5.0.0,>=4.6.0->sentence-transformers) (2022.6.2)\n",
            "Requirement already satisfied: zipp>=0.5 in /usr/local/lib/python3.7/dist-packages (from importlib-metadata->huggingface-hub>=0.4.0->sentence-transformers) (3.8.1)\n",
            "Requirement already satisfied: click in /usr/local/lib/python3.7/dist-packages (from nltk->sentence-transformers) (7.1.2)\n",
            "Requirement already satisfied: joblib in /usr/local/lib/python3.7/dist-packages (from nltk->sentence-transformers) (1.1.0)\n",
            "Requirement already satisfied: idna<3,>=2.5 in /usr/local/lib/python3.7/dist-packages (from requests->huggingface-hub>=0.4.0->sentence-transformers) (2.10)\n",
            "Requirement already satisfied: urllib3!=1.25.0,!=1.25.1,<1.26,>=1.21.1 in /usr/local/lib/python3.7/dist-packages (from requests->huggingface-hub>=0.4.0->sentence-transformers) (1.24.3)\n",
            "Requirement already satisfied: chardet<4,>=3.0.2 in /usr/local/lib/python3.7/dist-packages (from requests->huggingface-hub>=0.4.0->sentence-transformers) (3.0.4)\n",
            "Requirement already satisfied: certifi>=2017.4.17 in /usr/local/lib/python3.7/dist-packages (from requests->huggingface-hub>=0.4.0->sentence-transformers) (2022.6.15)\n",
            "Requirement already satisfied: threadpoolctl>=2.0.0 in /usr/local/lib/python3.7/dist-packages (from scikit-learn->sentence-transformers) (3.1.0)\n",
            "Requirement already satisfied: pillow!=8.3.*,>=5.3.0 in /usr/local/lib/python3.7/dist-packages (from torchvision->sentence-transformers) (7.1.2)\n"
          ]
        }
      ]
    },
    {
      "cell_type": "code",
      "source": [
        "from sentence_transformers import SentenceTransformer, util\n",
        "import pickle\n",
        "import torch\n",
        "# seq_pretrained_model = SentenceTransformer('all-mpnet-base-v2', device='cuda')\n",
        "seq_pretrained_model = SentenceTransformer('all-mpnet-base-v2')\n",
        "\n",
        "seq_pretrained_model.max_seq_length = max_len"
      ],
      "metadata": {
        "id": "44quK7sUR6R6"
      },
      "execution_count": 9,
      "outputs": []
    },
    {
      "cell_type": "code",
      "source": [
        "# embedding vector shape (768,)\n",
        "def seq_embeddings(seq_model , sentences):\n",
        "    embeddings = seq_model.encode(sentences, convert_to_tensor=True)\n",
        "    return (sentences, embeddings)\n",
        "\n",
        "def save_seq_embedding(embeddings, path=\"./\"):\n",
        "    with open(f'{path}embeddings.pkl', \"wb\") as fOut:\n",
        "        pickle.dump({'sentences': sentences, 'embeddings': embeddings}, fOut, protocol=pickle.HIGHEST_PROTOCOL)\n",
        "\n",
        "def load_seq_embeddings(path=\"./\"):\n",
        "    #Load sentences & embeddings from disc\n",
        "    embedding = []\n",
        "    with open(f'{path}embeddings.pkl', \"rb\") as fIn:\n",
        "        stored_data = pickle.load(fIn)\n",
        "        stored_sentences = stored_data['sentences']\n",
        "        stored_embeddings = stored_data['embeddings']\n",
        "        return stored_sentences,stored_embeddings\n",
        "## test code\n",
        "sentences = [\"a gun is harmful\", \"there is a gum in a gun\", \"A handgun is over there\"]\n",
        "_, embdeddings = seq_embeddings(seq_pretrained_model,sentences)\n",
        "\n",
        "save_seq_embedding(embdeddings)\n",
        "\n",
        "_, embeddings = load_seq_embeddings()\n",
        "\n",
        "cosine_scores = util.cos_sim(embeddings, embeddings)\n",
        "cosine_scores"
      ],
      "metadata": {
        "colab": {
          "base_uri": "https://localhost:8080/"
        },
        "id": "qqW6UewxS92V",
        "outputId": "cf24ff52-1c05-46c9-8a42-6c9ba9adae5e"
      },
      "execution_count": 10,
      "outputs": [
        {
          "output_type": "execute_result",
          "data": {
            "text/plain": [
              "tensor([[1.0000, 0.4552, 0.4997],\n",
              "        [0.4552, 1.0000, 0.5246],\n",
              "        [0.4997, 0.5246, 1.0000]])"
            ]
          },
          "metadata": {},
          "execution_count": 10
        }
      ]
    },
    {
      "cell_type": "markdown",
      "source": [
        "## Experiments"
      ],
      "metadata": {
        "id": "F_fGw-05ED1K"
      }
    },
    {
      "cell_type": "markdown",
      "source": [
        "#### Error Metrics\n"
      ],
      "metadata": {
        "id": "j-3kgV8etChV"
      }
    },
    {
      "cell_type": "code",
      "source": [
        "# input A, target B\n",
        "def error_wrapper(func, A, B):\n",
        "    if func==\"square_loss\":\n",
        "       return (torch.tensor(A)-torch.tensor(B))**2\n",
        "    if function==\"abs\":\n",
        "        return torch.abs(torch.tensor(A)-torch.tensor(B))\n",
        "    return \n",
        "\n",
        "    \n",
        "def data_transform(df, col_name):\n",
        "    col_list = df[col_name].tolist()\n",
        "    return col_list"
      ],
      "metadata": {
        "id": "Zf_mzaN7WBje"
      },
      "execution_count": 30,
      "outputs": []
    },
    {
      "cell_type": "code",
      "source": [
        "# assume 1d input\n",
        "def sum_up_errors(A_error, B_error):\n",
        "    return (torch.count_nonzero(torch.tensor(A_error) < torch.tensor(B_error)) / len(A_error))\n",
        "    \n",
        "# return [nx1] as pairwise similarity\n",
        "def similarity_wrapper(func, As, Bs):\n",
        "    similarity_matrix = []\n",
        "    if func == \"cosine\":\n",
        "        similarity_matrix = util.cos_sim(As, Bs)\n",
        "    else:\n",
        "        # default\n",
        "        similarity_matrix = util.cos_sim(As, Bs) \n",
        "    return torch.diagonal(similarity_matrix)"
      ],
      "metadata": {
        "id": "lQ61sbukx0zO"
      },
      "execution_count": 31,
      "outputs": []
    },
    {
      "cell_type": "markdown",
      "source": [
        "### Training"
      ],
      "metadata": {
        "id": "uSJFKjGL5tX5"
      }
    },
    {
      "cell_type": "code",
      "source": [
        "from sentence_transformers import SentenceTransformer, InputExample, losses, evaluation\n",
        "from torch.utils.data import DataLoader\n",
        "\n",
        "device = torch.device(\"cuda:0\" if torch.cuda.is_available() else \"cpu\")\n",
        "\n",
        "train_num = int(len(ref)*0.8)\n",
        "val_num = int(len(ref)*0.05)\n",
        "\n",
        "# model_name, , \n",
        "# disorder_percentage, disorder_cnt, disorder_swap_dist, label_penality\n",
        "def train_model(**args):\n",
        "    seq_trained_model = SentenceTransformer('all-mpnet-base-v2', device=device)\n",
        "\n",
        "    global train_num, val_num\n",
        "\n",
        "    disorder_sys,disorder_mqm = random_disorder(sys[0:train_num], mqm_data[0:train_num], \n",
        "                                                cnt=args['disorder_cnt'], swap_dist=args['disorder_swap_dist'], label_penality=args['label_penality'], disorder_percentage=args['disorder_percentage'])\n",
        "\n",
        "    train_samples = [InputExample(texts=[ref[i], disorder_sys[i]], label= disorder_mqm[i]) for i in range(0, train_num)]\n",
        "    val_samples = [InputExample(texts=[ref[i], sys[i]], label= mqm_data[i]) for i in range(train_num, val_num)]\n",
        "\n",
        "    train_dataloader = DataLoader(train_samples, shuffle=True, batch_size=32)\n",
        "    train_loss = losses.CosineSimilarityLoss(seq_trained_model)\n",
        "\n",
        "    evaluator = evaluation.EmbeddingSimilarityEvaluator(ref[ train_num: val_num+train_num], sys[train_num: val_num+train_num],  mqm_data[train_num: val_num+train_num])\n",
        "\n",
        "    \n",
        "    #Tune the model\n",
        "    seq_trained_model.fit(train_objectives=[(train_dataloader, train_loss)], epochs=3, warmup_steps=100,evaluator=evaluator, evaluation_steps=1000, save_best_model=True)\n",
        "    seq_trained_model.save(f\"/content/drive/MyDrive/Essentials Text/{args['model_name']}.model\")\n",
        "    # return seq_trained_model"
      ],
      "metadata": {
        "id": "g1FvwF88bxCn"
      },
      "execution_count": 32,
      "outputs": []
    },
    {
      "cell_type": "markdown",
      "source": [
        "### Exp With model"
      ],
      "metadata": {
        "id": "-NMibEmBtJJH"
      }
    },
    {
      "cell_type": "code",
      "source": [
        "\n",
        "# embeddings: ref, mt\n",
        "\n",
        "# similarity: []\n",
        "\n",
        "## customize embeddings, similarity cal\n",
        "## expect one score for one pair of (ref, mt): score_func(A,B)\n",
        "def experiment(embedding_func, score_func, **args):\n",
        "    global val_num, train_num\n",
        "    sample_num = len(ref)\n",
        "    path = \"./\"\n",
        "    ref_data =  ref[val_num+train_num:sample_num] # data_transform(df, \"ref\")\n",
        "    mt_data = sys[val_num+train_num:sample_num] #data_transform(df, \"sys\")\n",
        "\n",
        "    ref_emb = embedding_func(ref_data)\n",
        "    mt_emb = embedding_func(mt_data)\n",
        "    \n",
        "    # human_ratings, bleu score    \n",
        "    human_ratings = torch.tensor(mqm_data[val_num+train_num:sample_num])\n",
        "\n",
        "    bleu = bleu_data[val_num+train_num:sample_num] #data_transform(df, \"bleu\")\n",
        "     # score\n",
        "    cus_score = score_func(ref_emb, mt_emb)\n",
        "    return {'bleu': torch.tensor(bleu), 'cus_score': torch.tensor(cus_score), 'human_ratings': human_ratings}\n",
        "   \n",
        "\n",
        "def analysis_error(data_name):\n",
        "     # error\n",
        "    with open(f'{data_name}.pkl', \"rb\") as fIn:\n",
        "        stored_data = pickle.load(fIn)\n",
        "        bleu = stored_data['bleu']\n",
        "        cus_score = stored_data['cus_score']\n",
        "        human_ratings = stored_data['human_ratings']\n",
        "\n",
        "        bleu_error = error_wrapper(\"square_loss\", bleu, human_ratings)\n",
        "        cus_error = error_wrapper(\"square_loss\", cus_score.to(device), human_ratings.to(device))\n",
        "\n",
        "        result = sum_up_errors(cus_error.to(device),  bleu_error.to(device))\n",
        "        # special cases. produce value -1 =1e-7\n",
        "        cus_score[cus_score>1]=1.0\n",
        "        bleu[bleu>1]=1.0\n",
        "        human_ratings[human_ratings>1]=1.0\n",
        "        \n",
        "        cus_score[cus_score<0]=0\n",
        "        bleu[bleu<0]=0\n",
        "        human_ratings[human_ratings<0]=0\n",
        "        print(f\"result {data_name}\")\n",
        "        print(f\"native cnt: {result}\")\n",
        "\n",
        "        print(f\"MSE cus: {torch.nn.functional.mse_loss(cus_score.to(device), human_ratings.to(device) )}\")\n",
        "        print(f\"MSE bleu: {torch.nn.functional.mse_loss(bleu.to(device), human_ratings.to(device) )}\")\n",
        "\n",
        "        print(f\"MAE cus: {torch.nn.functional.l1_loss(cus_score.to(device), human_ratings.to(device) )}\")\n",
        "        print(f\"MAE bleu: {torch.nn.functional.l1_loss(bleu.to(device), human_ratings.to(device) )}\")\n",
        "        \n",
        "        print(f\"BCE cus: {torch.nn.functional.binary_cross_entropy(cus_score.to(device), human_ratings.to(device) )}\")\n",
        "        print(f\"BCE bleu: {torch.nn.functional.binary_cross_entropy(bleu.to(device), human_ratings.to(device) )}\")\n",
        "\n",
        "        return bleu_error,cus_error\n",
        "def save_data(data, path):\n",
        "    with open(f'{path}.pkl', \"wb\") as fOut:\n",
        "        pickle.dump(data, fOut, protocol=pickle.HIGHEST_PROTOCOL)\n",
        "\n",
        "def load_model(model_name, data_base=\"/content/drive/MyDrive/Essentials Text/\"):\n",
        "    return SentenceTransformer(f\"{data_base}{model_name}.model\")\n",
        "figure_idx=100\n",
        "def plot(data_name):\n",
        "    global figure_idx\n",
        "    bleu_error,cus_error = analysis_error(data_name)\n",
        "    plt.figure(figure_idx)\n",
        "    plt.hist(bleu_error, bins=np.linspace(0,1,100), density=False, histtype=\"step\", label=\"BLEU MSE\")\n",
        "    plt.title(f\"{data_name} MSE\")\n",
        "    plt.hist(cus_error.to(\"cpu\"),bins=np.linspace(0,1,100), density=False, label=\"SeqEmb MSE\",histtype=\"step\",)\n",
        "    plt.yscale(\"log\")\n",
        "    plt.legend()\n",
        "    figure_idx+=1\n",
        "### train; similarity; \n",
        "def run(**args):\n",
        "    if args['train']:\n",
        "        train_model(**args)\n",
        "    save_out = f\"{args['data_base']}{args['model_name']}_{args['similarity']}\"\n",
        "    if not args['only_plot']:\n",
        "        output = experiment(lambda seq: seq_embeddings(load_model(args['model_name']), seq)[1], \n",
        "                lambda A, B: similarity_wrapper(args['similarity'], A, B))\n",
        "        save_data(output, save_out)\n",
        "    plot(save_out)\n",
        "\n"
      ],
      "metadata": {
        "id": "D3q6CrBHhvHN"
      },
      "execution_count": 66,
      "outputs": []
    },
    {
      "cell_type": "markdown",
      "source": [
        "#### Exp panel"
      ],
      "metadata": {
        "id": "31O-RG5sFFj1"
      }
    },
    {
      "cell_type": "code",
      "source": [
        "data_base = \"/content/drive/MyDrive/Essentials Text/\"\n",
        "\n",
        "exp_params=[\n",
        "    {\n",
        "        \"only_plot\":True,\n",
        "        \"train\":False,\n",
        "        \"data_base\": \"/content/drive/MyDrive/Essentials Text/\",\n",
        "        \"model_name\": \"trained_disorder\",\n",
        "        \"similarity\": \"cosine\",\n",
        "        \"disorder_percentage\": 0.5, \n",
        "        \"disorder_cnt\": 2, \n",
        "        \"disorder_swap_dist\": 3, \n",
        "        \"label_penality\": 0.04,\n",
        "    },\n",
        "    {\n",
        "        \"only_plot\":True,\n",
        "        \"train\":False,\n",
        "        \"data_base\": \"/content/drive/MyDrive/Essentials Text/\",\n",
        "        \"model_name\": \"trained_disorder_pen_1\",\n",
        "        \"similarity\": \"cosine\",\n",
        "        \"disorder_percentage\": 0.5, \n",
        "        \"disorder_cnt\": 2, \n",
        "        \"disorder_swap_dist\": 3, \n",
        "        \"label_penality\": 0.1,\n",
        "    },\n",
        "    {\n",
        "        \"only_plot\":True,\n",
        "        \"train\":False,\n",
        "        \"data_base\": \"/content/drive/MyDrive/Essentials Text/\",\n",
        "        \"model_name\": \"trained_disorder_pen_08\",\n",
        "        \"similarity\": \"cosine\",\n",
        "        \"disorder_percentage\": 0.5, \n",
        "        \"disorder_cnt\": 2, \n",
        "        \"disorder_swap_dist\": 3, \n",
        "        \"label_penality\": 0.08,\n",
        "    },\n",
        "    {\n",
        "        \"only_plot\":True,\n",
        "        \"train\":False,\n",
        "        \"data_base\": \"/content/drive/MyDrive/Essentials Text/\",\n",
        "        \"model_name\": \"trained_disorder_pen_0\",\n",
        "        \"similarity\": \"cosine\",\n",
        "        \"disorder_percentage\": 0.5, \n",
        "        \"disorder_cnt\": 2, \n",
        "        \"disorder_swap_dist\": 3, \n",
        "        \"label_penality\": 0,\n",
        "    },\n",
        "    {\n",
        "        \"only_plot\":True,\n",
        "        \"train\":False,\n",
        "        \"data_base\": \"/content/drive/MyDrive/Essentials Text/\",\n",
        "        \"model_name\": \"trained_disorder_pen_0_p_8\",\n",
        "        \"similarity\": \"cosine\",\n",
        "        \"disorder_percentage\": 0.8, \n",
        "        \"disorder_cnt\": 2, \n",
        "        \"disorder_swap_dist\": 3, \n",
        "        \"label_penality\": 0,\n",
        "    },\n",
        "    #  {\n",
        "    #     \"only_plot\":False,\n",
        "    #     \"train\":True,\n",
        "    #     \"data_base\": \"/content/drive/MyDrive/Essentials Text/\",\n",
        "    #     \"model_name\": \"trained_original\",\n",
        "    #     \"similarity\": \"cosine\",\n",
        "    #     \"disorder_percentage\": 0, \n",
        "    #     \"disorder_cnt\": 0, \n",
        "    #     \"disorder_swap_dist\": 0, \n",
        "    #     \"label_penality\": 0,\n",
        "    # },\n",
        "    #  {\n",
        "    #     \"only_plot\":False,\n",
        "    #     \"train\":True,\n",
        "    #     \"data_base\": \"/content/drive/MyDrive/Essentials Text/\",\n",
        "    #     \"model_name\": \"trained_disorder_pen_0_p_10\",\n",
        "    #     \"similarity\": \"cosine\",\n",
        "    #     \"disorder_percentage\": 1, \n",
        "    #     \"disorder_cnt\": 2, \n",
        "    #     \"disorder_swap_dist\": 3, \n",
        "    #     \"label_penality\": 0,\n",
        "    # }   \n",
        "]\n",
        "\n",
        "for param in exp_params:\n",
        "    run(**param)\n",
        "\n"
      ],
      "metadata": {
        "id": "f8VXv_9d7swL",
        "colab": {
          "base_uri": "https://localhost:8080/",
          "height": 1000
        },
        "outputId": "bbb8c223-b550-4e2f-ddf5-c65f9a9da391"
      },
      "execution_count": 67,
      "outputs": [
        {
          "output_type": "stream",
          "name": "stderr",
          "text": [
            "/usr/local/lib/python3.7/dist-packages/ipykernel_launcher.py:4: UserWarning: To copy construct from a tensor, it is recommended to use sourceTensor.clone().detach() or sourceTensor.clone().detach().requires_grad_(True), rather than torch.tensor(sourceTensor).\n",
            "  after removing the cwd from sys.path.\n",
            "/usr/local/lib/python3.7/dist-packages/ipykernel_launcher.py:3: UserWarning: To copy construct from a tensor, it is recommended to use sourceTensor.clone().detach() or sourceTensor.clone().detach().requires_grad_(True), rather than torch.tensor(sourceTensor).\n",
            "  This is separate from the ipykernel package so we can avoid doing imports until\n",
            "/usr/local/lib/python3.7/dist-packages/ipykernel_launcher.py:4: UserWarning: To copy construct from a tensor, it is recommended to use sourceTensor.clone().detach() or sourceTensor.clone().detach().requires_grad_(True), rather than torch.tensor(sourceTensor).\n",
            "  after removing the cwd from sys.path.\n",
            "/usr/local/lib/python3.7/dist-packages/ipykernel_launcher.py:3: UserWarning: To copy construct from a tensor, it is recommended to use sourceTensor.clone().detach() or sourceTensor.clone().detach().requires_grad_(True), rather than torch.tensor(sourceTensor).\n",
            "  This is separate from the ipykernel package so we can avoid doing imports until\n",
            "/usr/local/lib/python3.7/dist-packages/ipykernel_launcher.py:4: UserWarning: To copy construct from a tensor, it is recommended to use sourceTensor.clone().detach() or sourceTensor.clone().detach().requires_grad_(True), rather than torch.tensor(sourceTensor).\n",
            "  after removing the cwd from sys.path.\n",
            "/usr/local/lib/python3.7/dist-packages/ipykernel_launcher.py:3: UserWarning: To copy construct from a tensor, it is recommended to use sourceTensor.clone().detach() or sourceTensor.clone().detach().requires_grad_(True), rather than torch.tensor(sourceTensor).\n",
            "  This is separate from the ipykernel package so we can avoid doing imports until\n",
            "/usr/local/lib/python3.7/dist-packages/ipykernel_launcher.py:4: UserWarning: To copy construct from a tensor, it is recommended to use sourceTensor.clone().detach() or sourceTensor.clone().detach().requires_grad_(True), rather than torch.tensor(sourceTensor).\n",
            "  after removing the cwd from sys.path.\n",
            "/usr/local/lib/python3.7/dist-packages/ipykernel_launcher.py:3: UserWarning: To copy construct from a tensor, it is recommended to use sourceTensor.clone().detach() or sourceTensor.clone().detach().requires_grad_(True), rather than torch.tensor(sourceTensor).\n",
            "  This is separate from the ipykernel package so we can avoid doing imports until\n",
            "/usr/local/lib/python3.7/dist-packages/ipykernel_launcher.py:4: UserWarning: To copy construct from a tensor, it is recommended to use sourceTensor.clone().detach() or sourceTensor.clone().detach().requires_grad_(True), rather than torch.tensor(sourceTensor).\n",
            "  after removing the cwd from sys.path.\n",
            "/usr/local/lib/python3.7/dist-packages/ipykernel_launcher.py:3: UserWarning: To copy construct from a tensor, it is recommended to use sourceTensor.clone().detach() or sourceTensor.clone().detach().requires_grad_(True), rather than torch.tensor(sourceTensor).\n",
            "  This is separate from the ipykernel package so we can avoid doing imports until\n"
          ]
        },
        {
          "output_type": "stream",
          "name": "stdout",
          "text": [
            "result /content/drive/MyDrive/Essentials Text/trained_disorder_cosine\n",
            "native cnt: 0.6561514139175415\n",
            "MSE cus: 0.03202508017420769\n",
            "MSE bleu: 0.06385814398527145\n",
            "MAE cus: 0.12448053061962128\n",
            "MAE bleu: 0.1977870613336563\n",
            "BCE cus: 0.44851693511009216\n",
            "BCE bleu: 0.5306465029716492\n",
            "result /content/drive/MyDrive/Essentials Text/trained_disorder_pen_1_cosine\n",
            "native cnt: 0.6656151413917542\n",
            "MSE cus: 0.03182816132903099\n",
            "MSE bleu: 0.06385814398527145\n",
            "MAE cus: 0.12292449176311493\n",
            "MAE bleu: 0.1977870613336563\n",
            "BCE cus: 0.4595816433429718\n",
            "BCE bleu: 0.5306465029716492\n",
            "result /content/drive/MyDrive/Essentials Text/trained_disorder_pen_08_cosine\n",
            "native cnt: 0.6640378832817078\n",
            "MSE cus: 0.032549288123846054\n",
            "MSE bleu: 0.06385814398527145\n",
            "MAE cus: 0.12358170002698898\n",
            "MAE bleu: 0.1977870613336563\n",
            "BCE cus: 0.5079964995384216\n",
            "BCE bleu: 0.5306465029716492\n",
            "result /content/drive/MyDrive/Essentials Text/trained_disorder_pen_0_cosine\n",
            "native cnt: 0.6664037704467773\n",
            "MSE cus: 0.03337150439620018\n",
            "MSE bleu: 0.06385814398527145\n",
            "MAE cus: 0.12473975867033005\n",
            "MAE bleu: 0.1977870613336563\n",
            "BCE cus: 0.48113295435905457\n",
            "BCE bleu: 0.5306465029716492\n",
            "result /content/drive/MyDrive/Essentials Text/trained_disorder_pen_0_p_8_cosine\n",
            "native cnt: 0.664826512336731\n",
            "MSE cus: 0.03493860736489296\n",
            "MSE bleu: 0.06385814398527145\n",
            "MAE cus: 0.12657055258750916\n",
            "MAE bleu: 0.1977870613336563\n",
            "BCE cus: 0.5002942085266113\n",
            "BCE bleu: 0.5306465029716492\n"
          ]
        },
        {
          "output_type": "display_data",
          "data": {
            "text/plain": [
              "<Figure size 432x288 with 1 Axes>"
            ],
            "image/png": "[encoded data removed]"
          },
          "metadata": {
            "needs_background": "light"
          }
        },
        {
          "output_type": "display_data",
          "data": {
            "text/plain": [
              "<Figure size 432x288 with 1 Axes>"
            ],
            "image/png": "[encoded data removed]"
          },
          "metadata": {
            "needs_background": "light"
          }
        },
        {
          "output_type": "display_data",
          "data": {
            "text/plain": [
              "<Figure size 432x288 with 1 Axes>"
            ],
            "image/png": "[encoded data removed]"
          },
          "metadata": {
            "needs_background": "light"
          }
        },
        {
          "output_type": "display_data",
          "data": {
            "text/plain": [
              "<Figure size 432x288 with 1 Axes>"
            ],
            "image/png": "[encoded data removed]"
          },
          "metadata": {
            "needs_background": "light"
          }
        },
        {
          "output_type": "display_data",
          "data": {
            "text/plain": [
              "<Figure size 432x288 with 1 Axes>"
            ],
            "image/png": "[encoded data removed]"
          },
          "metadata": {
            "needs_background": "light"
          }
        }
      ]
    },
    {
      "cell_type": "code",
      "source": [],
      "metadata": {
        "id": "IgO7dkQP_1h5"
      },
      "execution_count": null,
      "outputs": []
    },
    {
      "cell_type": "code",
      "source": [],
      "metadata": {
        "id": "J6kKKF36_0l_"
      },
      "execution_count": null,
      "outputs": []
    }
  ]
}